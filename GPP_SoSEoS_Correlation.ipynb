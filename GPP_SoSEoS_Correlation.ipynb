{
 "cells": [
  {
   "cell_type": "code",
   "execution_count": 102,
   "id": "28e99ec9",
   "metadata": {},
   "outputs": [],
   "source": [
    "# import all relevant packages\n",
    "import pandas as pd\n",
    "from pandas import DataFrame\n",
    "from pandas import read_csv\n",
    "\n",
    "import numpy as np\n",
    "from numpy.polynomial import Polynomial\n",
    "\n",
    "from matplotlib import pyplot as plt\n",
    "import matplotlib.dates as mdates\n",
    "from matplotlib.dates import date2num\n",
    "from datetime import datetime\n",
    "\n",
    "import scipy\n",
    "from scipy import fftpack\n",
    "from scipy.signal import savgol_filter\n",
    "from scipy import stats\n",
    "from scipy.stats.stats import pearsonr\n",
    "\n",
    "from sklearn import datasets, linear_model\n",
    "from sklearn.linear_model import LinearRegression\n",
    "import statsmodels.api as sm\n",
    "from scipy import stats"
   ]
  },
  {
   "cell_type": "code",
   "execution_count": 50,
   "id": "8f38f56c",
   "metadata": {},
   "outputs": [
    {
     "name": "stdout",
     "output_type": "stream",
     "text": [
      "          SRO_SoS  SRO_StartDateDelta     SRO_EoS  SRO_EndDateDelta  \\\n",
      "Index                                                                 \n",
      "1999   10/01/1999                10.0  02/12/1999               336   \n",
      "2000   29/01/2000                29.0  03/11/2000               308   \n",
      "2001   18/02/2001                49.0  22/11/2001               326   \n",
      "2002   19/01/2002                19.0  27/10/2002               300   \n",
      "2003   06/02/2003                37.0  05/11/2003               309   \n",
      "2004   26/02/2004                57.0  04/11/2004               309   \n",
      "2005   27/02/2005                58.0  24/11/2005               328   \n",
      "2006   19/02/2006                50.0  10/12/2006               344   \n",
      "2007   08/02/2007                39.0  18/11/2007               322   \n",
      "2008   31/01/2008                31.0  03/11/2008               308   \n",
      "2009   16/02/2009                47.0  06/11/2009               310   \n",
      "2010   28/01/2010                28.0  17/11/2010               321   \n",
      "2011   22/02/2011                53.0  07/10/2011               280   \n",
      "2012   27/02/2012                58.0  04/11/2012               309   \n",
      "\n",
      "       SRO_DateDelta  MOD19A1_error     EVI_SoS  EVI_StartDateDelta  \\\n",
      "Index                                                                 \n",
      "1999             326              8         NaN                 NaN   \n",
      "2000             279              8  21/03/2000                81.0   \n",
      "2001             277              8  22/03/2001                97.0   \n",
      "2002             281              8  07/04/2002                57.0   \n",
      "2003             272              8  26/02/2003                89.0   \n",
      "2004             252              8  29/03/2004                 NaN   \n",
      "2005             270              8         NaN                81.0   \n",
      "2006             294              8  22/03/2006                97.0   \n",
      "2007             283              8  07/04/2007               105.0   \n",
      "2008             277              8  14/04/2008               113.0   \n",
      "2009             263              8  23/04/2009                 NaN   \n",
      "2010             293              8         NaN                81.0   \n",
      "2011             227              8  22/03/2011                 NaN   \n",
      "2012             251              8         NaN                 NaN   \n",
      "\n",
      "       EVI_StartDateDelta_max     EVI_EoS  ...  MOD13_EVI_EndDateDelta  \\\n",
      "Index                                      ...                           \n",
      "1999                      NaN         NaN  ...                     NaN   \n",
      "2000                     89.0         NaN  ...                   353.0   \n",
      "2001                    105.0         NaN  ...                     NaN   \n",
      "2002                     65.0         NaN  ...                     NaN   \n",
      "2003                     97.0  17/11/2003  ...                   337.0   \n",
      "2004                      NaN         NaN  ...                     NaN   \n",
      "2005                     89.0  03/12/2005  ...                     NaN   \n",
      "2006                    105.0         NaN  ...                   337.0   \n",
      "2007                    113.0         NaN  ...                     NaN   \n",
      "2008                    121.0         NaN  ...                     NaN   \n",
      "2009                      NaN  27/12/2009  ...                     NaN   \n",
      "2010                     89.0  25/11/2010  ...                     NaN   \n",
      "2011                      NaN         NaN  ...                   321.0   \n",
      "2012                      NaN  02/12/2012  ...                     NaN   \n",
      "\n",
      "       MOD13_EVI_EndDateDelta_max  MOD17_GPP_StartDate  \\\n",
      "Index                                                    \n",
      "1999                          NaN                  NaN   \n",
      "2000                        369.0           18/02/2000   \n",
      "2001                          NaN           02/02/2001   \n",
      "2002                          NaN           10/02/2002   \n",
      "2003                        353.0           02/02/2003   \n",
      "2004                          NaN           26/02/2004   \n",
      "2005                          NaN           18/02/2005   \n",
      "2006                        353.0           10/02/2006   \n",
      "2007                          NaN           10/02/2007   \n",
      "2008                          NaN           10/02/2008   \n",
      "2009                          NaN           10/02/2009   \n",
      "2010                          NaN           10/02/2010   \n",
      "2011                        337.0           18/02/2011   \n",
      "2012                          NaN           10/02/2012   \n",
      "\n",
      "      MOD17_GPP_StartDateDelta  MOD17_GPP_StartDateDelta_max  \\\n",
      "Index                                                          \n",
      "1999                       NaN                           NaN   \n",
      "2000                      49.0                          65.0   \n",
      "2001                      33.0                          49.0   \n",
      "2002                      41.0                          57.0   \n",
      "2003                      33.0                          49.0   \n",
      "2004                      57.0                          73.0   \n",
      "2005                      49.0                          65.0   \n",
      "2006                      41.0                          57.0   \n",
      "2007                      41.0                          57.0   \n",
      "2008                      41.0                          57.0   \n",
      "2009                      41.0                          57.0   \n",
      "2010                      41.0                          57.0   \n",
      "2011                      49.0                          65.0   \n",
      "2012                      41.0                          57.0   \n",
      "\n",
      "       MOD16_GPP_EndDate MOD17_GPP_EndDateDelta  MOD17_GPP_EndDateDelta_max  \\\n",
      "Index                                                                         \n",
      "1999                 NaN                    NaN                         NaN   \n",
      "2000          08/11/2000                  313.0                       329.0   \n",
      "2001          17/11/2001                  321.0                       337.0   \n",
      "2002          09/11/2002                  313.0                       329.0   \n",
      "2003          17/11/2003                  321.0                       337.0   \n",
      "2004          16/11/2004                  321.0                       337.0   \n",
      "2005          09/11/2005                  313.0                       329.0   \n",
      "2006          03/12/2006                  337.0                       353.0   \n",
      "2007          17/11/2007                  321.0                       337.0   \n",
      "2008          16/11/2008                  321.0                       337.0   \n",
      "2009          25/11/2009                  329.0                       345.0   \n",
      "2010          17/11/2010                  321.0                       337.0   \n",
      "2011          03/12/2011                  337.0                       353.0   \n",
      "2012          16/11/2012                  321.0                       337.0   \n",
      "\n",
      "       MOD17_GPP_Diff  Unnamed: 40  \n",
      "Index                               \n",
      "1999              NaN          NaN  \n",
      "2000            264.0          NaN  \n",
      "2001            288.0          NaN  \n",
      "2002            272.0          NaN  \n",
      "2003            288.0          NaN  \n",
      "2004            264.0          NaN  \n",
      "2005            264.0          NaN  \n",
      "2006            296.0          NaN  \n",
      "2007            280.0          NaN  \n",
      "2008            280.0          NaN  \n",
      "2009            288.0          NaN  \n",
      "2010            280.0          NaN  \n",
      "2011            288.0          NaN  \n",
      "2012            280.0          NaN  \n",
      "\n",
      "[14 rows x 40 columns]\n",
      "<class 'pandas.core.frame.DataFrame'>\n",
      "Int64Index: 14 entries, 1999 to 2012\n",
      "Data columns (total 40 columns):\n",
      " #   Column                         Non-Null Count  Dtype  \n",
      "---  ------                         --------------  -----  \n",
      " 0   SRO_SoS                        14 non-null     object \n",
      " 1   SRO_StartDateDelta             14 non-null     float64\n",
      " 2   SRO_EoS                        14 non-null     object \n",
      " 3   SRO_EndDateDelta               14 non-null     int64  \n",
      " 4   SRO_DateDelta                  14 non-null     int64  \n",
      " 5   MOD19A1_error                  14 non-null     int64  \n",
      " 6   EVI_SoS                        10 non-null     object \n",
      " 7   EVI_StartDateDelta             9 non-null      float64\n",
      " 8   EVI_StartDateDelta_max         9 non-null      float64\n",
      " 9   EVI_EoS                        5 non-null      object \n",
      " 10  EVI_EndDateDelta               5 non-null      float64\n",
      " 11  EVI_EndDateDelta_max           5 non-null      float64\n",
      " 12  EVI_DateDelta                  0 non-null      float64\n",
      " 13  GRVI_SoS                       12 non-null     object \n",
      " 14  GRVI_StartDateDelta            12 non-null     float64\n",
      " 15  GRVI_StartDateDelta_max        12 non-null     float64\n",
      " 16  GRVI_EoS                       1 non-null      object \n",
      " 17  GRVI_EndDateDelta              1 non-null      float64\n",
      " 18  GRVI_EndDateDelta_max          1 non-null      float64\n",
      " 19  MOD13_error                    14 non-null     int64  \n",
      " 20  MOD13_NDVI_SoS                 10 non-null     object \n",
      " 21  MOD13_NDVI_StartDateDelta      10 non-null     float64\n",
      " 22  MOD13_NDVI_StartDateDelta_max  10 non-null     float64\n",
      " 23  MOD13_NDVI_EoS                 3 non-null      object \n",
      " 24  MOD13_NDVI_EndDateDelta        3 non-null      float64\n",
      " 25  MOD13_NDVI_EndDateDelta_max    3 non-null      float64\n",
      " 26  MOD13_EVI_SoS                  12 non-null     object \n",
      " 27  MOD13_EVI_StartDateDelta       12 non-null     float64\n",
      " 28  MOD13_EVI_StartDateDelta_max   12 non-null     float64\n",
      " 29  MOD13_EVI_EoS                  4 non-null      object \n",
      " 30  MOD13_EVI_EndDateDelta         4 non-null      float64\n",
      " 31  MOD13_EVI_EndDateDelta_max     4 non-null      float64\n",
      " 32  MOD17_GPP_StartDate            13 non-null     object \n",
      " 33  MOD17_GPP_StartDateDelta       13 non-null     float64\n",
      " 34  MOD17_GPP_StartDateDelta_max   13 non-null     float64\n",
      " 35  MOD16_GPP_EndDate              13 non-null     object \n",
      " 36  MOD17_GPP_EndDateDelta         13 non-null     float64\n",
      " 37  MOD17_GPP_EndDateDelta_max     13 non-null     float64\n",
      " 38  MOD17_GPP_Diff                 13 non-null     float64\n",
      " 39  Unnamed: 40                    0 non-null      float64\n",
      "dtypes: float64(24), int64(4), object(12)\n",
      "memory usage: 4.5+ KB\n"
     ]
    }
   ],
   "source": [
    "# import the data set \n",
    "\n",
    "# create a custom date parse function for the data\n",
    "custom_date_parser = lambda x: datetime.strptime(x, \"%d/%m/%Y\")\n",
    "\n",
    "# create an easy variable for the .csv file path\n",
    "file = r'C:\\Users\\Giorgio\\Desktop\\Dissertation_Main\\Disseration\\Data\\Processed_Data\\PhenoCompare.csv'\n",
    "\n",
    "# load in the .csv using pandas.read_csv and set the index as the column date \n",
    "df = read_csv(file, header=0, #, parse_dates=[1,2], date_parser=custom_date_parser, \n",
    "              na_values = ['NaT'], index_col = 0)\n",
    "\n",
    "\n",
    "print(df)\n",
    "# inquire the dataframe\n",
    "df.info()"
   ]
  },
  {
   "cell_type": "code",
   "execution_count": null,
   "id": "f2b017a2",
   "metadata": {},
   "outputs": [],
   "source": [
    "## SoS"
   ]
  },
  {
   "cell_type": "code",
   "execution_count": 75,
   "id": "d34a23a3",
   "metadata": {},
   "outputs": [],
   "source": [
    "df_n = df.drop(1999)\n",
    "df_s = df_n[['SRO_StartDateDelta','MOD17_GPP_StartDateDelta' ]]\n",
    "df_e = df_n[['SRO_EndDateDelta','MOD17_GPP_EndDateDelta' ]]"
   ]
  },
  {
   "cell_type": "code",
   "execution_count": 77,
   "id": "1767d710",
   "metadata": {},
   "outputs": [
    {
     "data": {
      "text/html": [
       "<div>\n",
       "<style scoped>\n",
       "    .dataframe tbody tr th:only-of-type {\n",
       "        vertical-align: middle;\n",
       "    }\n",
       "\n",
       "    .dataframe tbody tr th {\n",
       "        vertical-align: top;\n",
       "    }\n",
       "\n",
       "    .dataframe thead th {\n",
       "        text-align: right;\n",
       "    }\n",
       "</style>\n",
       "<table border=\"1\" class=\"dataframe\">\n",
       "  <thead>\n",
       "    <tr style=\"text-align: right;\">\n",
       "      <th></th>\n",
       "      <th>SRO_StartDateDelta</th>\n",
       "      <th>MOD17_GPP_StartDateDelta</th>\n",
       "    </tr>\n",
       "  </thead>\n",
       "  <tbody>\n",
       "    <tr>\n",
       "      <th>SRO_StartDateDelta</th>\n",
       "      <td>1.000000</td>\n",
       "      <td>0.306761</td>\n",
       "    </tr>\n",
       "    <tr>\n",
       "      <th>MOD17_GPP_StartDateDelta</th>\n",
       "      <td>0.306761</td>\n",
       "      <td>1.000000</td>\n",
       "    </tr>\n",
       "  </tbody>\n",
       "</table>\n",
       "</div>"
      ],
      "text/plain": [
       "                          SRO_StartDateDelta  MOD17_GPP_StartDateDelta\n",
       "SRO_StartDateDelta                  1.000000                  0.306761\n",
       "MOD17_GPP_StartDateDelta            0.306761                  1.000000"
      ]
     },
     "execution_count": 77,
     "metadata": {},
     "output_type": "execute_result"
    }
   ],
   "source": [
    "df_s.corr()"
   ]
  },
  {
   "cell_type": "code",
   "execution_count": 79,
   "id": "e31b73c8",
   "metadata": {},
   "outputs": [
    {
     "data": {
      "text/html": [
       "<div>\n",
       "<style scoped>\n",
       "    .dataframe tbody tr th:only-of-type {\n",
       "        vertical-align: middle;\n",
       "    }\n",
       "\n",
       "    .dataframe tbody tr th {\n",
       "        vertical-align: top;\n",
       "    }\n",
       "\n",
       "    .dataframe thead th {\n",
       "        text-align: right;\n",
       "    }\n",
       "</style>\n",
       "<table border=\"1\" class=\"dataframe\">\n",
       "  <thead>\n",
       "    <tr style=\"text-align: right;\">\n",
       "      <th></th>\n",
       "      <th>SRO_EndDateDelta</th>\n",
       "      <th>MOD17_GPP_EndDateDelta</th>\n",
       "    </tr>\n",
       "  </thead>\n",
       "  <tbody>\n",
       "    <tr>\n",
       "      <th>SRO_EndDateDelta</th>\n",
       "      <td>1.000000</td>\n",
       "      <td>-0.026066</td>\n",
       "    </tr>\n",
       "    <tr>\n",
       "      <th>MOD17_GPP_EndDateDelta</th>\n",
       "      <td>-0.026066</td>\n",
       "      <td>1.000000</td>\n",
       "    </tr>\n",
       "  </tbody>\n",
       "</table>\n",
       "</div>"
      ],
      "text/plain": [
       "                        SRO_EndDateDelta  MOD17_GPP_EndDateDelta\n",
       "SRO_EndDateDelta                1.000000               -0.026066\n",
       "MOD17_GPP_EndDateDelta         -0.026066                1.000000"
      ]
     },
     "execution_count": 79,
     "metadata": {},
     "output_type": "execute_result"
    }
   ],
   "source": [
    "df_e.corr()"
   ]
  },
  {
   "cell_type": "code",
   "execution_count": 80,
   "id": "b98d6cc5",
   "metadata": {},
   "outputs": [
    {
     "name": "stdout",
     "output_type": "stream",
     "text": [
      "AxesSubplot(0.125,0.125;0.775x0.755) AxesSubplot(0.125,0.125;0.775x0.755)\n"
     ]
    }
   ],
   "source": [
    "# persone r, RMSE, p\n",
    "x = np.array(df_n['SRO_StartDateDelta'])\n",
    "y = np.array(df_n['MOD17_GPP_StartDateDelta'])\n",
    "\n",
    "x1 = np.array(df_n['SRO_EndDateDelta'])\n",
    "y1 = np.array(df_n['MOD17_GPP_EndDateDelta'])\n",
    "\n"
   ]
  },
  {
   "cell_type": "code",
   "execution_count": 119,
   "id": "403bd8d8",
   "metadata": {},
   "outputs": [
    {
     "name": "stdout",
     "output_type": "stream",
     "text": [
      " \n",
      "0.1567 x + 36.16\n"
     ]
    }
   ],
   "source": [
    "sosz = np.polyfit(x,y,1)\n",
    "sosp = np.poly1d(sosz)\n",
    "\n",
    "eosz = np.polyfit(x1,y1,1)\n",
    "eosp = np.poly1d(eosz)\n",
    "\n",
    "print(sosp)"
   ]
  },
  {
   "cell_type": "code",
   "execution_count": 108,
   "id": "9d845a59",
   "metadata": {},
   "outputs": [
    {
     "name": "stdout",
     "output_type": "stream",
     "text": [
      "x1    1.205985e-16\n",
      "Name: P>|t|, dtype: float64\n"
     ]
    },
    {
     "name": "stderr",
     "output_type": "stream",
     "text": [
      "C:\\Users\\Giorgio\\anaconda3\\envs\\geo_env\\lib\\site-packages\\scipy\\stats\\stats.py:1541: UserWarning: kurtosistest only valid for n>=20 ... continuing anyway, n=13\n",
      "  warnings.warn(\"kurtosistest only valid for n>=20 ... continuing \"\n",
      "C:\\Users\\Giorgio\\anaconda3\\envs\\geo_env\\lib\\site-packages\\scipy\\stats\\stats.py:1541: UserWarning: kurtosistest only valid for n>=20 ... continuing anyway, n=13\n",
      "  warnings.warn(\"kurtosistest only valid for n>=20 ... continuing \"\n"
     ]
    }
   ],
   "source": [
    "## p value \n",
    "\n",
    "mod = sm.OLS(y,x)\n",
    "fii = mod.fit()\n",
    "p_values = fii.summary2().tables[1]['P>|t|']\n",
    "\n",
    "mod1 = sm.OLS(y1,x1)\n",
    "fii1 = mod1.fit()\n",
    "p_values1 = fii1.summary2().tables[1]['P>|t|']\n",
    "\n",
    "print(p_values1)"
   ]
  },
  {
   "cell_type": "code",
   "execution_count": 109,
   "id": "771c2c22",
   "metadata": {},
   "outputs": [
    {
     "name": "stdout",
     "output_type": "stream",
     "text": [
      "12.19079097578925 19.02427598945823\n"
     ]
    }
   ],
   "source": [
    "# rmse\n",
    "\n",
    "sos_rmse = sqrt(mean_squared_error(x, y)) \n",
    "eos_rmse = sqrt(mean_squared_error(x1, y1)) \n",
    "\n",
    "print(sos_rmse, eos_rmse)"
   ]
  },
  {
   "cell_type": "code",
   "execution_count": 63,
   "id": "b3a93e01",
   "metadata": {},
   "outputs": [],
   "source": [
    "plt.rcParams[\"figure.figsize\"] = (5,5)\n",
    "plt.rcParams.update({'font.size' : 15})\n",
    "\n"
   ]
  },
  {
   "cell_type": "code",
   "execution_count": 117,
   "id": "66aea4fd",
   "metadata": {},
   "outputs": [
    {
     "data": {
      "image/png": "[encoded data removed]",
      "text/plain": [
       "<Figure size 360x360 with 1 Axes>"
      ]
     },
     "metadata": {
      "needs_background": "light"
     },
     "output_type": "display_data"
    },
    {
     "data": {
      "image/png": "[encoded data removed]",
      "text/plain": [
       "<Figure size 360x360 with 1 Axes>"
      ]
     },
     "metadata": {
      "needs_background": "light"
     },
     "output_type": "display_data"
    }
   ],
   "source": [
    "fig, sos = plt.subplots()\n",
    "\n",
    "sos.scatter(x,y,marker = '^', color = 'lightgreen')\n",
    "sos.plot(x, sosp(x), '--', color = 'black')\n",
    "sos.set_title('SoS')\n",
    "sos.set_ylabel('DoY')\n",
    "sos.set_xlabel('DoY')\n",
    "plt.savefig(r'C:\\Users\\Giorgio\\Desktop\\Dissertation_Main\\Disseration\\Figures\\soscorr.jpeg', format= 'jpeg', dpi =400)\n",
    "\n",
    "fig, eos=plt.subplots()\n",
    "\n",
    "eos.scatter(x1,y1, marker='^', color = 'orange')\n",
    "eos.plot(x1, eosp(x1), color = 'black')\n",
    "eos.set_title('EoS')\n",
    "eos.set_ylabel('DoY')\n",
    "eos.set_xlabel('DoY')\n",
    "\n",
    "\n",
    "\n",
    "plt.savefig(r'C:\\Users\\Giorgio\\Desktop\\Dissertation_Main\\Disseration\\Figures\\eoscorr.jpeg', format= 'jpeg', dpi =400)\n",
    "plt.show()"
   ]
  }
 ],
 "metadata": {
  "kernelspec": {
   "display_name": "geo_env",
   "language": "python",
   "name": "geo_env"
  },
  "language_info": {
   "codemirror_mode": {
    "name": "ipython",
    "version": 3
   },
   "file_extension": ".py",
   "mimetype": "text/x-python",
   "name": "python",
   "nbconvert_exporter": "python",
   "pygments_lexer": "ipython3",
   "version": "3.9.11"
  }
 },
 "nbformat": 4,
 "nbformat_minor": 5
}
